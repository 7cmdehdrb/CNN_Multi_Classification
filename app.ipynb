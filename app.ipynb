{
 "cells": [
  {
   "cell_type": "code",
   "execution_count": 2,
   "metadata": {},
   "outputs": [],
   "source": [
    "from keras.datasets import mnist\n",
    "from keras.utils import np_utils\n",
    "from keras.models import Sequential\n",
    "from keras.layers import Dense, Conv2D, MaxPooling2D, Dropout, Flatten\n",
    "from keras.callbacks import ModelCheckpoint, EarlyStopping\n",
    "\n",
    "from sklearn.model_selection import train_test_split\n",
    "import os\n",
    "import numpy as np\n",
    "import cv2"
   ]
  },
  {
   "cell_type": "code",
   "execution_count": 3,
   "metadata": {},
   "outputs": [],
   "source": [
    "data_info = {\n",
    "    \"1\": \"Swing\",\n",
    "    \"2\": \"Heel strike\",\n",
    "    \"3\": \"Full contact\",\n",
    "    \"4\": \"Heel off & toe off\",\n",
    "}\n",
    "\n",
    "class Walk(object):\n",
    "    def __init__(self, data_type:str, files: list):\n",
    "        self.data_type = data_type\n",
    "        self.files = files\n",
    "\n",
    "walks = []\n",
    "\n",
    "parent_path = \"C:/python/dl2022/trainingset_ratio_50\"\n",
    "folders = os.listdir(parent_path)\n",
    "\n",
    "for folder in folders:\n",
    "    child_path = parent_path + \"/\" + folder\n",
    "    files = os.listdir(child_path)\n",
    "    walks.append(Walk(data_type=folder, files=files))\n"
   ]
  },
  {
   "cell_type": "code",
   "execution_count": 4,
   "metadata": {},
   "outputs": [
    {
     "name": "stdout",
     "output_type": "stream",
     "text": [
      "(13635, 28, 28)\n",
      "(13635, 4)\n",
      "(9544, 28, 28)\n",
      "(9544, 4)\n"
     ]
    }
   ],
   "source": [
    "x = []\n",
    "y = []\n",
    "\n",
    "sigma = 3\n",
    "\n",
    "for walk in walks:\n",
    "    for file in walk.files:\n",
    "        try:\n",
    "            img = cv2.imread(parent_path + \"/\" + walk.data_type + \"/\" + file, cv2.IMREAD_GRAYSCALE)\n",
    "            img = cv2.resize(img, (28, 28))\n",
    "            img = cv2.GaussianBlur(img, (0, 0), sigma)\n",
    "            data = np.asarray(img)\n",
    "\n",
    "            label = [0 for i in range(4)]\n",
    "            label[int(walk.data_type) - 1] = 1\n",
    "\n",
    "            x.append(img)\n",
    "            y.append(label)\n",
    "        except Exception as ex:\n",
    "            print(ex)\n",
    "            print(\"ERROR ON \" + walk + \" \" + file)\n",
    "\n",
    "X = np.array(x)\n",
    "Y = np.array(y)\n",
    "\n",
    "print(X.shape)\n",
    "print(Y.shape)\n",
    "\n",
    "x_train, x_test, y_train, y_test = train_test_split(X, Y, shuffle=True, test_size=0.3)\n",
    "\n",
    "print(x_train.shape)\n",
    "print(y_train.shape)\n",
    "\n",
    "        "
   ]
  },
  {
   "cell_type": "code",
   "execution_count": 5,
   "metadata": {},
   "outputs": [
    {
     "name": "stdout",
     "output_type": "stream",
     "text": [
      "Model: \"sequential\"\n",
      "_________________________________________________________________\n",
      " Layer (type)                Output Shape              Param #   \n",
      "=================================================================\n",
      " conv2d (Conv2D)             (None, 28, 28, 32)        320       \n",
      "                                                                 \n",
      " conv2d_1 (Conv2D)           (None, 28, 28, 64)        18496     \n",
      "                                                                 \n",
      " max_pooling2d (MaxPooling2D  (None, 14, 14, 64)       0         \n",
      " )                                                               \n",
      "                                                                 \n",
      " dropout (Dropout)           (None, 14, 14, 64)        0         \n",
      "                                                                 \n",
      " flatten (Flatten)           (None, 12544)             0         \n",
      "                                                                 \n",
      " dense (Dense)               (None, 128)               1605760   \n",
      "                                                                 \n",
      " dropout_1 (Dropout)         (None, 128)               0         \n",
      "                                                                 \n",
      " dense_1 (Dense)             (None, 4)                 516       \n",
      "                                                                 \n",
      "=================================================================\n",
      "Total params: 1,625,092\n",
      "Trainable params: 1,625,092\n",
      "Non-trainable params: 0\n",
      "_________________________________________________________________\n",
      "None\n"
     ]
    }
   ],
   "source": [
    "\n",
    "\n",
    "model = Sequential()\n",
    "\n",
    "model.add(Conv2D(filters=32, kernel_size=(3, 3), strides=(1, 1), padding=\"same\", activation=\"relu\", input_shape=(28, 28, 1)))\n",
    "model.add(Conv2D(64, (3,3), padding=\"same\", activation=\"relu\"))\n",
    "model.add(MaxPooling2D(pool_size=(2, 2)))\n",
    "model.add(Dropout(0.25))\n",
    "\n",
    "model.add(Flatten())\n",
    "model.add(Dense(128, activation=\"relu\"))\n",
    "model.add(Dropout(0.5))\n",
    "model.add(Dense(4, activation=\"softmax\"))\n",
    "\n",
    "model.compile(loss='categorical_crossentropy', optimizer='adam', metrics=['accuracy'])\n",
    "print(model.summary())\n",
    "\n",
    "model_dir = './model'\n",
    "if not os.path.exists(model_dir):\n",
    "    os.mkdir(model_dir)\n",
    "model_path = model_dir + \"/dog_cat_classify.model\"\n",
    "\n",
    "checkpoint = ModelCheckpoint(filepath=model_path, monitor='val_loss', verbose=1, save_best_only=True)\n",
    "early_stopping = EarlyStopping(monitor='val_loss', patience=7)\n",
    "\n"
   ]
  },
  {
   "cell_type": "code",
   "execution_count": 6,
   "metadata": {},
   "outputs": [
    {
     "name": "stdout",
     "output_type": "stream",
     "text": [
      "\n",
      "Epoch 1: val_loss improved from inf to 0.83967, saving model to ./model\\dog_cat_classify.model\n"
     ]
    },
    {
     "name": "stderr",
     "output_type": "stream",
     "text": [
      "WARNING:absl:Found untraced functions such as _jit_compiled_convolution_op, _jit_compiled_convolution_op while saving (showing 2 of 2). These functions will not be directly callable after loading.\n"
     ]
    },
    {
     "name": "stdout",
     "output_type": "stream",
     "text": [
      "INFO:tensorflow:Assets written to: ./model\\dog_cat_classify.model\\assets\n"
     ]
    },
    {
     "name": "stderr",
     "output_type": "stream",
     "text": [
      "INFO:tensorflow:Assets written to: ./model\\dog_cat_classify.model\\assets\n"
     ]
    },
    {
     "name": "stdout",
     "output_type": "stream",
     "text": [
      "\n",
      "Epoch 2: val_loss improved from 0.83967 to 0.69970, saving model to ./model\\dog_cat_classify.model\n"
     ]
    },
    {
     "name": "stderr",
     "output_type": "stream",
     "text": [
      "WARNING:absl:Found untraced functions such as _jit_compiled_convolution_op, _jit_compiled_convolution_op while saving (showing 2 of 2). These functions will not be directly callable after loading.\n"
     ]
    },
    {
     "name": "stdout",
     "output_type": "stream",
     "text": [
      "INFO:tensorflow:Assets written to: ./model\\dog_cat_classify.model\\assets\n"
     ]
    },
    {
     "name": "stderr",
     "output_type": "stream",
     "text": [
      "INFO:tensorflow:Assets written to: ./model\\dog_cat_classify.model\\assets\n"
     ]
    },
    {
     "name": "stdout",
     "output_type": "stream",
     "text": [
      "\n",
      "Epoch 3: val_loss improved from 0.69970 to 0.49982, saving model to ./model\\dog_cat_classify.model\n"
     ]
    },
    {
     "name": "stderr",
     "output_type": "stream",
     "text": [
      "WARNING:absl:Found untraced functions such as _jit_compiled_convolution_op, _jit_compiled_convolution_op while saving (showing 2 of 2). These functions will not be directly callable after loading.\n"
     ]
    },
    {
     "name": "stdout",
     "output_type": "stream",
     "text": [
      "INFO:tensorflow:Assets written to: ./model\\dog_cat_classify.model\\assets\n"
     ]
    },
    {
     "name": "stderr",
     "output_type": "stream",
     "text": [
      "INFO:tensorflow:Assets written to: ./model\\dog_cat_classify.model\\assets\n"
     ]
    }
   ],
   "source": [
    "history = model.fit(x_train, y_train.astype(np.uint8), validation_split=0.2, epochs=3, batch_size=200, verbose=0, callbacks=[checkpoint, early_stopping])"
   ]
  },
  {
   "cell_type": "code",
   "execution_count": 7,
   "metadata": {},
   "outputs": [
    {
     "name": "stdout",
     "output_type": "stream",
     "text": [
      "{'loss': [7.324771404266357, 0.8092600107192993, 0.6633427143096924], 'accuracy': [0.4998035430908203, 0.6666666865348816, 0.738572359085083], 'val_loss': [0.8396701812744141, 0.6996966600418091, 0.49982067942619324], 'val_accuracy': [0.6469355821609497, 0.7684651613235474, 0.8124672770500183]}\n",
      "128/128 [==============================] - 1s 9ms/step - loss: 0.4776 - accuracy: 0.8299\n",
      "정확도 : 0.8299\n"
     ]
    }
   ],
   "source": [
    "print(history.history)\n",
    "\n",
    "print(\"정확도 : %.4f\" % (model.evaluate(x_test, y_test)[1]))"
   ]
  }
 ],
 "metadata": {
  "interpreter": {
   "hash": "a763aa9a6e37037bc8674c56e0f13d47a13fbeda17c3b30a2dbcd8b668901264"
  },
  "kernelspec": {
   "display_name": "Python 3.9.2 ('dl2022-IMXCXXE-')",
   "language": "python",
   "name": "python3"
  },
  "language_info": {
   "codemirror_mode": {
    "name": "ipython",
    "version": 3
   },
   "file_extension": ".py",
   "mimetype": "text/x-python",
   "name": "python",
   "nbconvert_exporter": "python",
   "pygments_lexer": "ipython3",
   "version": "3.9.2"
  },
  "orig_nbformat": 4
 },
 "nbformat": 4,
 "nbformat_minor": 2
}
