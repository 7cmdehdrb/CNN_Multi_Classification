{
 "cells": [
  {
   "cell_type": "code",
   "execution_count": 38,
   "metadata": {},
   "outputs": [],
   "source": [
    "import os\n",
    "from tensorflow import keras\n",
    "from keras.layers import Dense, Conv2D, MaxPooling2D, Dropout, Flatten\n",
    "from keras.callbacks import ModelCheckpoint, EarlyStopping\n",
    "from sklearn.model_selection import train_test_split\n",
    "import numpy as np\n",
    "import cv2"
   ]
  },
  {
   "cell_type": "code",
   "execution_count": 39,
   "metadata": {},
   "outputs": [],
   "source": [
    "data_info = {\n",
    "    \"1\": \"Swing\",\n",
    "    \"2\": \"Heel strike\",\n",
    "    \"3\": \"Full contact\",\n",
    "    \"4\": \"Heel off & toe off\",\n",
    "}\n",
    "\n",
    "class Walk(object):\n",
    "    def __init__(self, data_type:str, files: list):\n",
    "        self.data_type = data_type\n",
    "        self.files = files\n",
    "\n",
    "walks = []\n",
    "\n",
    "parent_path = \"C:/python/CNN_Multi_Classification/trainingset_ratio_50\"\n",
    "folders = os.listdir(parent_path)\n",
    "\n",
    "for folder in folders:\n",
    "    child_path = parent_path + \"/\" + folder\n",
    "    files = os.listdir(child_path)\n",
    "    walks.append(Walk(data_type=folder, files=files))\n"
   ]
  },
  {
   "cell_type": "code",
   "execution_count": 51,
   "metadata": {},
   "outputs": [
    {
     "name": "stdout",
     "output_type": "stream",
     "text": [
      "(54540, 28, 28)\n",
      "(54540, 4)\n",
      "(38178, 28, 28, 1)\n",
      "(38178, 4)\n"
     ]
    }
   ],
   "source": [
    "x = []\n",
    "y = []\n",
    "\n",
    "# sigma = 0\n",
    "\n",
    "for walk in walks:\n",
    "    for file in walk.files:\n",
    "        for sigma in range(1, 5):\n",
    "            try:\n",
    "                img = cv2.imread(parent_path + \"/\" + walk.data_type + \"/\" + file, cv2.IMREAD_GRAYSCALE)\n",
    "                img = cv2.resize(img, (28, 28))\n",
    "                img = cv2.GaussianBlur(img, (0, 0), sigma)\n",
    "                data = np.asarray(img)\n",
    "                \n",
    "                label = [0 for i in range(4)]\n",
    "                label[int(walk.data_type) - 1] = 1\n",
    "\n",
    "                x.append(data)\n",
    "                y.append(label)\n",
    "            except Exception as ex:\n",
    "                print(ex)\n",
    "                print(\"ERROR ON \" + walk + \" \" + file)\n",
    "\n",
    "X = np.array(x)\n",
    "Y = np.array(y)\n",
    "\n",
    "print(X.shape)\n",
    "print(Y.shape)\n",
    "\n",
    "x_train, x_test, y_train, y_test = train_test_split(X, Y, shuffle=True, test_size=0.3)\n",
    "\n",
    "x_train = x_train.astype(\"float32\") / 255.\n",
    "x_test = x_test.astype(\"float32\") / 255.\n",
    "\n",
    "x_train = np.expand_dims(x_train, -1)\n",
    "x_test = np.expand_dims(x_test, -1)\n",
    "\n",
    "print(x_train.shape)\n",
    "print(y_train.shape)\n",
    "\n",
    "        "
   ]
  },
  {
   "cell_type": "code",
   "execution_count": 52,
   "metadata": {},
   "outputs": [
    {
     "name": "stdout",
     "output_type": "stream",
     "text": [
      "Model: \"sequential_10\"\n",
      "_________________________________________________________________\n",
      " Layer (type)                Output Shape              Param #   \n",
      "=================================================================\n",
      " conv2d_26 (Conv2D)          (None, 28, 28, 32)        320       \n",
      "                                                                 \n",
      " conv2d_27 (Conv2D)          (None, 28, 28, 64)        18496     \n",
      "                                                                 \n",
      " max_pooling2d_20 (MaxPoolin  (None, 14, 14, 64)       0         \n",
      " g2D)                                                            \n",
      "                                                                 \n",
      " dropout_12 (Dropout)        (None, 14, 14, 64)        0         \n",
      "                                                                 \n",
      " conv2d_28 (Conv2D)          (None, 14, 14, 128)       73856     \n",
      "                                                                 \n",
      " max_pooling2d_21 (MaxPoolin  (None, 7, 7, 128)        0         \n",
      " g2D)                                                            \n",
      "                                                                 \n",
      " dropout_13 (Dropout)        (None, 7, 7, 128)         0         \n",
      "                                                                 \n",
      " flatten_10 (Flatten)        (None, 6272)              0         \n",
      "                                                                 \n",
      " dense_20 (Dense)            (None, 128)               802944    \n",
      "                                                                 \n",
      " dense_21 (Dense)            (None, 4)                 516       \n",
      "                                                                 \n",
      "=================================================================\n",
      "Total params: 896,132\n",
      "Trainable params: 896,132\n",
      "Non-trainable params: 0\n",
      "_________________________________________________________________\n",
      "None\n"
     ]
    }
   ],
   "source": [
    "input_shape = (28, 28, 1)\n",
    "\n",
    "model = keras.Sequential([\n",
    "    keras.Input(shape = input_shape),\n",
    "    Conv2D(filters=32, kernel_size=(3, 3), strides=(1, 1), padding=\"same\", activation=\"relu\", input_shape=(28, 28, 1)),\n",
    "    Conv2D(64, (3,3), padding=\"same\", activation=\"relu\"),\n",
    "    MaxPooling2D(pool_size=(2, 2)),\n",
    "    Dropout(0.25),\n",
    "    Conv2D(128, (3,3), padding=\"same\", activation=\"relu\"),\n",
    "    MaxPooling2D(pool_size=(2, 2)),\n",
    "    Dropout(0.25),\n",
    "    Flatten(),\n",
    "    Dense(128, activation=\"relu\"),\n",
    "    Dense(4, activation=\"softmax\"),\n",
    "])\n",
    "\n",
    "\n",
    "# model = keras.Sequential([\n",
    "#     keras.Input(shape = input_shape),\n",
    "#     Conv2D(32, kernel_size = (3,3), activation = 'relu', strides=(1,1), padding = 'same'),\n",
    "#     MaxPooling2D(pool_size = (2,2), strides = (2,2)),\n",
    "#     Conv2D(64, kernel_size = (3,3), activation = 'relu', strides=(1,1), padding = 'same'),\n",
    "#     MaxPooling2D(pool_size = (2,2), strides = (2,2)),\n",
    "#     Conv2D(128, kernel_size = (3,3), activation = 'relu', strides=(1,1), padding = 'same'),\n",
    "#     MaxPooling2D(pool_size = (2,2), strides = (2,2)),\n",
    "#     Flatten(),\n",
    "#     Dense(128, activation= 'relu'),\n",
    "#     Dense(4, activation = 'softmax'),\n",
    "# ])\n",
    "\n",
    "batch_size = 100\n",
    "epochs = 20\n",
    "\n",
    "model.compile(loss='categorical_crossentropy', optimizer='adam', metrics=['accuracy'])\n",
    "print(model.summary())\n",
    "\n",
    "model_dir = './model'\n",
    "if not os.path.exists(model_dir):\n",
    "    os.mkdir(model_dir)\n",
    "model_path = model_dir + \"/walk.model\"\n",
    "\n",
    "checkpoint = ModelCheckpoint(filepath=model_path, monitor='val_loss', verbose=1, save_best_only=True)\n",
    "early_stopping = EarlyStopping(monitor='val_loss', patience=7)\n",
    "\n"
   ]
  },
  {
   "cell_type": "code",
   "execution_count": 54,
   "metadata": {},
   "outputs": [
    {
     "name": "stdout",
     "output_type": "stream",
     "text": [
      "Epoch 1/20\n",
      "381/688 [===============>..............] - ETA: 1:07 - loss: 0.3694 - accuracy: 0.8561"
     ]
    }
   ],
   "source": [
    "history = model.fit(x_train, y_train, batch_size=batch_size, epochs=epochs, validation_split=0.1, callbacks=[checkpoint, early_stopping])"
   ]
  },
  {
   "cell_type": "code",
   "execution_count": 49,
   "metadata": {},
   "outputs": [
    {
     "name": "stdout",
     "output_type": "stream",
     "text": [
      "128/128 [==============================] - 2s 16ms/step - loss: 0.1423 - accuracy: 0.9401\n",
      "손실 : 0.1423\n",
      "정확도 : 0.9401\n",
      "[0.49677184224128723, 0.3309359550476074, 0.29172444343566895, 0.27162235975265503, 0.2484196424484253, 0.23272934556007385, 0.2285551279783249, 0.215981587767601, 0.2055695801973343, 0.19439589977264404, 0.18761083483695984, 0.18507227301597595, 0.16734063625335693, 0.16905812919139862, 0.16219834983348846, 0.14625036716461182, 0.14419719576835632, 0.13700814545154572, 0.13385629653930664, 0.1288009136915207]\n"
     ]
    },
    {
     "data": {
      "image/png": "[encoded data removed]",
      "text/plain": [
       "<Figure size 432x288 with 1 Axes>"
      ]
     },
     "metadata": {
      "needs_background": "light"
     },
     "output_type": "display_data"
    }
   ],
   "source": [
    "from matplotlib import pyplot as plt\n",
    "\n",
    "score, acc = model.evaluate(x_test, y_test)\n",
    "\n",
    "print(\"손실 : %.4f\" % (score))\n",
    "print(\"정확도 : %.4f\" % (acc))\n",
    "\n",
    "loss = history.history[\"loss\"]\n",
    "val_loss = history.history[\"val_loss\"]\n",
    "\n",
    "print(loss)\n",
    "\n",
    "plt.plot(loss[1:], label=\"loss\")\n",
    "plt.plot(val_loss[1:], label=\"val_loss\")\n",
    "\n",
    "plt.legend()\n",
    "plt.grid()\n",
    "plt.show()"
   ]
  },
  {
   "cell_type": "code",
   "execution_count": null,
   "metadata": {},
   "outputs": [],
   "source": [
    "from sklearn.metrics import r2_score\n",
    "\n",
    "\n",
    "y_pred = model.predict(x_test)\n",
    "r2 = r2_score(y_test, y_pred)\n",
    "\n",
    "print(\"R2 Score: %.4f\" % r2)"
   ]
  }
 ],
 "metadata": {
  "kernelspec": {
   "display_name": "Python 3.9.11 ('CNN_Multi_Classification-hCC8vM7R')",
   "language": "python",
   "name": "python3"
  },
  "language_info": {
   "codemirror_mode": {
    "name": "ipython",
    "version": 3
   },
   "file_extension": ".py",
   "mimetype": "text/x-python",
   "name": "python",
   "nbconvert_exporter": "python",
   "pygments_lexer": "ipython3",
   "version": "3.9.11"
  },
  "orig_nbformat": 4,
  "vscode": {
   "interpreter": {
    "hash": "41a141ecd022c12aacf0ba9aae2729f93105d5f60260756b23929c6062872b36"
   }
  }
 },
 "nbformat": 4,
 "nbformat_minor": 2
}
