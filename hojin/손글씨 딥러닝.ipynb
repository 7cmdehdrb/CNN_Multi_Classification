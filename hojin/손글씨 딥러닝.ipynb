{
 "cells": [
  {
   "cell_type": "markdown",
   "id": "c9aa878a",
   "metadata": {},
   "source": [
    "### dataset download"
   ]
  },
  {
   "cell_type": "code",
   "execution_count": 4,
   "id": "9f834f40",
   "metadata": {},
   "outputs": [
    {
     "name": "stdout",
     "output_type": "stream",
     "text": [
      "Downloading data from https://storage.googleapis.com/tensorflow/tf-keras-datasets/mnist.npz\n",
      "11493376/11490434 [==============================] - 2s 0us/step\n",
      "11501568/11490434 [==============================] - 2s 0us/step\n"
     ]
    }
   ],
   "source": [
    "import tensorflow as tf\n",
    "import numpy as np\n",
    "mnist = tf.keras.datasets.mnist\n",
    "(x_train, y_train),(x_test, y_test) = mnist.load_data()"
   ]
  },
  {
   "cell_type": "markdown",
   "id": "ea459819",
   "metadata": {},
   "source": [
    "### check data"
   ]
  },
  {
   "cell_type": "code",
   "execution_count": 5,
   "id": "7ede815c",
   "metadata": {},
   "outputs": [
    {
     "data": {
      "text/plain": [
       "(60000, 28, 28)"
      ]
     },
     "metadata": {},
     "output_type": "display_data"
    },
    {
     "data": {
      "text/plain": [
       "(60000,)"
      ]
     },
     "metadata": {},
     "output_type": "display_data"
    },
    {
     "data": {
      "text/plain": [
       "(10000, 28, 28)"
      ]
     },
     "metadata": {},
     "output_type": "display_data"
    },
    {
     "data": {
      "text/plain": [
       "(10000,)"
      ]
     },
     "metadata": {},
     "output_type": "display_data"
    },
    {
     "data": {
      "text/plain": [
       "array([7, 2, 1, ..., 4, 5, 6], dtype=uint8)"
      ]
     },
     "metadata": {},
     "output_type": "display_data"
    }
   ],
   "source": [
    "display(x_train.shape)\n",
    "display(y_train.shape)\n",
    "display(x_test.shape)\n",
    "display(y_test.shape)\n",
    "\n",
    "display(y_test)"
   ]
  },
  {
   "cell_type": "markdown",
   "id": "84717369",
   "metadata": {},
   "source": [
    "### data 시각화"
   ]
  },
  {
   "cell_type": "code",
   "execution_count": 6,
   "id": "feb5b4ef",
   "metadata": {},
   "outputs": [],
   "source": [
    "import matplotlib.pyplot as plt\n",
    "\n",
    "def show_data(arr):\n",
    "    plt.imshow(arr, cmap = plt.cm.binary)\n",
    "    \n",
    "    reshpe_data = arr.reshape(-1, )\n",
    "    for index, data in enumerate(reshpe_data):\n",
    "        print('{:3d}'.format(data), end = '')\n",
    "        if index % 28 == 27:\n",
    "            print()"
   ]
  },
  {
   "cell_type": "code",
   "execution_count": 7,
   "id": "330fb03b",
   "metadata": {},
   "outputs": [
    {
     "name": "stdout",
     "output_type": "stream",
     "text": [
      "  0  0  0  0  0  0  0  0  0  0  0  0  0  0  0  0  0  0  0  0  0  0  0  0  0  0  0  0\n",
      "  0  0  0  0  0  0  0  0  0  0  0  0  0  0  0  0  0  0  0  0  0  0  0  0  0  0  0  0\n",
      "  0  0  0  0  0  0  0  0  0  0  0  0  0  0  0  0  0  0  0  0  0  0  0  0  0  0  0  0\n",
      "  0  0  0  0  0  0  0  0  0  0  0  0  0  0  0  0  0  0  0  0  0  0  0  0  0  0  0  0\n",
      "  0  0  0  0  0  0  0  0  0  0  0  0  0  0  0 51159253159 50  0  0  0  0  0  0  0  0\n",
      "  0  0  0  0  0  0  0  0  0  0  0  0  0  0 48238252252252237  0  0  0  0  0  0  0  0\n",
      "  0  0  0  0  0  0  0  0  0  0  0  0  0 54227253252239233252 57  6  0  0  0  0  0  0\n",
      "  0  0  0  0  0  0  0  0  0  0  0 10 60224252253252202 84252253122  0  0  0  0  0  0\n",
      "  0  0  0  0  0  0  0  0  0  0  0163252252252253252252 96189253167  0  0  0  0  0  0\n",
      "  0  0  0  0  0  0  0  0  0  0 51238253253190114253228 47 79255168  0  0  0  0  0  0\n",
      "  0  0  0  0  0  0  0  0  0 48238252252179 12 75121 21  0  0253243 50  0  0  0  0  0\n",
      "  0  0  0  0  0  0  0  0 38165253233208 84  0  0  0  0  0  0253252165  0  0  0  0  0\n",
      "  0  0  0  0  0  0  0  7178252240 71 19 28  0  0  0  0  0  0253252195  0  0  0  0  0\n",
      "  0  0  0  0  0  0  0 57252252 63  0  0  0  0  0  0  0  0  0253252195  0  0  0  0  0\n",
      "  0  0  0  0  0  0  0198253190  0  0  0  0  0  0  0  0  0  0255253196  0  0  0  0  0\n",
      "  0  0  0  0  0  0 76246252112  0  0  0  0  0  0  0  0  0  0253252148  0  0  0  0  0\n",
      "  0  0  0  0  0  0 85252230 25  0  0  0  0  0  0  0  0  7135253186 12  0  0  0  0  0\n",
      "  0  0  0  0  0  0 85252223  0  0  0  0  0  0  0  0  7131252225 71  0  0  0  0  0  0\n",
      "  0  0  0  0  0  0 85252145  0  0  0  0  0  0  0 48165252173  0  0  0  0  0  0  0  0\n",
      "  0  0  0  0  0  0 86253225  0  0  0  0  0  0114238253162  0  0  0  0  0  0  0  0  0\n",
      "  0  0  0  0  0  0 85252249146 48 29 85178225253223167 56  0  0  0  0  0  0  0  0  0\n",
      "  0  0  0  0  0  0 85252252252229215252252252196130  0  0  0  0  0  0  0  0  0  0  0\n",
      "  0  0  0  0  0  0 28199252252253252252233145  0  0  0  0  0  0  0  0  0  0  0  0  0\n",
      "  0  0  0  0  0  0  0 25128252253252141 37  0  0  0  0  0  0  0  0  0  0  0  0  0  0\n",
      "  0  0  0  0  0  0  0  0  0  0  0  0  0  0  0  0  0  0  0  0  0  0  0  0  0  0  0  0\n",
      "  0  0  0  0  0  0  0  0  0  0  0  0  0  0  0  0  0  0  0  0  0  0  0  0  0  0  0  0\n",
      "  0  0  0  0  0  0  0  0  0  0  0  0  0  0  0  0  0  0  0  0  0  0  0  0  0  0  0  0\n",
      "  0  0  0  0  0  0  0  0  0  0  0  0  0  0  0  0  0  0  0  0  0  0  0  0  0  0  0  0\n"
     ]
    },
    {
     "data": {
      "image/png": "[encoded data removed]",
      "text/plain": [
       "<Figure size 432x288 with 1 Axes>"
      ]
     },
     "metadata": {
      "needs_background": "light"
     },
     "output_type": "display_data"
    }
   ],
   "source": [
    "show_data(x_train[1])"
   ]
  },
  {
   "cell_type": "markdown",
   "id": "4e55311f",
   "metadata": {},
   "source": [
    "28x28의 데이터를 시각화"
   ]
  },
  {
   "cell_type": "markdown",
   "id": "f133dfc8",
   "metadata": {},
   "source": [
    "### 데이터 변환"
   ]
  },
  {
   "cell_type": "code",
   "execution_count": 8,
   "id": "ca2aa193",
   "metadata": {},
   "outputs": [],
   "source": [
    "reshape_x_train = x_train.reshape(x_train.shape[0], 28, 28, 1)\n",
    "reshape_x_test = x_test.reshape(x_test.shape[0], 28, 28, 1)"
   ]
  },
  {
   "cell_type": "markdown",
   "id": "e72fb7cc",
   "metadata": {},
   "source": [
    "### 모델 구성"
   ]
  },
  {
   "cell_type": "code",
   "execution_count": 9,
   "id": "8955da2d",
   "metadata": {},
   "outputs": [
    {
     "name": "stdout",
     "output_type": "stream",
     "text": [
      "Model: \"sequential\"\n",
      "_________________________________________________________________\n",
      " Layer (type)                Output Shape              Param #   \n",
      "=================================================================\n",
      " flatten (Flatten)           (None, 784)               0         \n",
      "                                                                 \n",
      " dense (Dense)               (None, 64)                50240     \n",
      "                                                                 \n",
      " dense_1 (Dense)             (None, 16)                1040      \n",
      "                                                                 \n",
      " dense_2 (Dense)             (None, 10)                170       \n",
      "                                                                 \n",
      "=================================================================\n",
      "Total params: 51,450\n",
      "Trainable params: 51,450\n",
      "Non-trainable params: 0\n",
      "_________________________________________________________________\n"
     ]
    }
   ],
   "source": [
    "from tensorflow.keras.models import Sequential\n",
    "from tensorflow.keras import layers\n",
    "\n",
    "model = Sequential()\n",
    "model.add(layers.InputLayer(input_shape=(28, 28, 1)))\n",
    "model.add(layers.Flatten())\n",
    "model.add(layers.Dense(64, activation='relu'))\n",
    "model.add(layers.Dense(16, activation='relu'))\n",
    "model.add(layers.Dense(10, activation='softmax'))\n",
    "\n",
    "model.summary()"
   ]
  },
  {
   "cell_type": "markdown",
   "id": "83c85ea8",
   "metadata": {},
   "source": [
    "총 3개의 layer로 구성, MNIST 데이터셋에 맞춰 (28, 28, 1)의 형태에 맞춰 인풋 데이터를 받도록 구성"
   ]
  },
  {
   "cell_type": "markdown",
   "id": "f94e2a4b",
   "metadata": {},
   "source": [
    "### 모델 컴파일"
   ]
  },
  {
   "cell_type": "code",
   "execution_count": 11,
   "id": "a025a28b",
   "metadata": {},
   "outputs": [],
   "source": [
    "model.compile(\n",
    "    optimizer='adam',\n",
    "    loss='sparse_categorical_crossentropy',\n",
    "    metrics=['acc']\n",
    ")"
   ]
  },
  {
   "cell_type": "markdown",
   "id": "7a2dcc17",
   "metadata": {},
   "source": [
    "### 모델 학습"
   ]
  },
  {
   "cell_type": "code",
   "execution_count": 12,
   "id": "ff79b35d",
   "metadata": {
    "scrolled": true
   },
   "outputs": [
    {
     "name": "stdout",
     "output_type": "stream",
     "text": [
      "Epoch 1/50\n",
      "422/422 [==============================] - 1s 892us/step - loss: 3.1756 - acc: 0.2282 - val_loss: 1.8935 - val_acc: 0.2918\n",
      "Epoch 2/50\n",
      "422/422 [==============================] - 0s 693us/step - loss: 1.8085 - acc: 0.3226 - val_loss: 1.7728 - val_acc: 0.3217\n",
      "Epoch 3/50\n",
      "422/422 [==============================] - 0s 704us/step - loss: 1.6133 - acc: 0.3855 - val_loss: 1.3826 - val_acc: 0.4660\n",
      "Epoch 4/50\n",
      "422/422 [==============================] - 0s 671us/step - loss: 1.2448 - acc: 0.5553 - val_loss: 1.0008 - val_acc: 0.6577\n",
      "Epoch 5/50\n",
      "422/422 [==============================] - 0s 691us/step - loss: 0.9724 - acc: 0.6794 - val_loss: 0.8211 - val_acc: 0.7700\n",
      "Epoch 6/50\n",
      "422/422 [==============================] - 0s 704us/step - loss: 0.7690 - acc: 0.7761 - val_loss: 0.7052 - val_acc: 0.8123\n",
      "Epoch 7/50\n",
      "422/422 [==============================] - 0s 698us/step - loss: 0.6182 - acc: 0.8315 - val_loss: 0.5581 - val_acc: 0.8653\n",
      "Epoch 8/50\n",
      "422/422 [==============================] - 0s 701us/step - loss: 0.5132 - acc: 0.8691 - val_loss: 0.4389 - val_acc: 0.9010\n",
      "Epoch 9/50\n",
      "422/422 [==============================] - 0s 716us/step - loss: 0.4067 - acc: 0.8993 - val_loss: 0.3813 - val_acc: 0.9113\n",
      "Epoch 10/50\n",
      "422/422 [==============================] - 0s 707us/step - loss: 0.3407 - acc: 0.9151 - val_loss: 0.3457 - val_acc: 0.9282\n",
      "Epoch 11/50\n",
      "422/422 [==============================] - 0s 711us/step - loss: 0.2772 - acc: 0.9307 - val_loss: 0.2769 - val_acc: 0.9365\n",
      "Epoch 12/50\n",
      "422/422 [==============================] - 0s 707us/step - loss: 0.2285 - acc: 0.9427 - val_loss: 0.2538 - val_acc: 0.9470\n",
      "Epoch 13/50\n",
      "422/422 [==============================] - 0s 706us/step - loss: 0.2061 - acc: 0.9478 - val_loss: 0.2099 - val_acc: 0.9550\n",
      "Epoch 14/50\n",
      "422/422 [==============================] - 0s 700us/step - loss: 0.1813 - acc: 0.9537 - val_loss: 0.2055 - val_acc: 0.9527\n",
      "Epoch 15/50\n",
      "422/422 [==============================] - 0s 700us/step - loss: 0.1603 - acc: 0.9582 - val_loss: 0.1853 - val_acc: 0.9568\n",
      "Epoch 16/50\n",
      "422/422 [==============================] - 0s 696us/step - loss: 0.1461 - acc: 0.9619 - val_loss: 0.1983 - val_acc: 0.9572\n",
      "Epoch 17/50\n",
      "422/422 [==============================] - 0s 696us/step - loss: 0.1401 - acc: 0.9628 - val_loss: 0.1810 - val_acc: 0.9597\n",
      "Epoch 18/50\n",
      "422/422 [==============================] - 0s 694us/step - loss: 0.1268 - acc: 0.9666 - val_loss: 0.1722 - val_acc: 0.9613\n",
      "Epoch 19/50\n",
      "422/422 [==============================] - 0s 697us/step - loss: 0.1169 - acc: 0.9686 - val_loss: 0.1706 - val_acc: 0.9617\n",
      "Epoch 20/50\n",
      "422/422 [==============================] - 0s 695us/step - loss: 0.1093 - acc: 0.9704 - val_loss: 0.1507 - val_acc: 0.9653\n",
      "Epoch 21/50\n",
      "422/422 [==============================] - 0s 673us/step - loss: 0.1047 - acc: 0.9721 - val_loss: 0.1634 - val_acc: 0.9627\n",
      "Epoch 22/50\n",
      "422/422 [==============================] - 0s 694us/step - loss: 0.0964 - acc: 0.9736 - val_loss: 0.1811 - val_acc: 0.9623\n",
      "Epoch 23/50\n",
      "422/422 [==============================] - 0s 694us/step - loss: 0.0915 - acc: 0.9746 - val_loss: 0.1807 - val_acc: 0.9645\n",
      "Epoch 24/50\n",
      "422/422 [==============================] - 0s 696us/step - loss: 0.0864 - acc: 0.9759 - val_loss: 0.1636 - val_acc: 0.9610\n",
      "Epoch 25/50\n",
      "422/422 [==============================] - 0s 699us/step - loss: 0.0787 - acc: 0.9782 - val_loss: 0.1692 - val_acc: 0.9623\n",
      "Epoch 26/50\n",
      "422/422 [==============================] - 0s 699us/step - loss: 0.0806 - acc: 0.9774 - val_loss: 0.1643 - val_acc: 0.9665\n",
      "Epoch 27/50\n",
      "422/422 [==============================] - 0s 701us/step - loss: 0.0709 - acc: 0.9801 - val_loss: 0.1822 - val_acc: 0.9653\n",
      "Epoch 28/50\n",
      "422/422 [==============================] - 0s 709us/step - loss: 0.0693 - acc: 0.9801 - val_loss: 0.1616 - val_acc: 0.9665\n",
      "Epoch 29/50\n",
      "422/422 [==============================] - 0s 711us/step - loss: 0.0659 - acc: 0.9816 - val_loss: 0.1672 - val_acc: 0.9682\n",
      "Epoch 30/50\n",
      "422/422 [==============================] - 0s 700us/step - loss: 0.0639 - acc: 0.9818 - val_loss: 0.1963 - val_acc: 0.9658\n",
      "Epoch 31/50\n",
      "422/422 [==============================] - 0s 701us/step - loss: 0.0628 - acc: 0.9822 - val_loss: 0.1910 - val_acc: 0.9655\n",
      "Epoch 32/50\n",
      "422/422 [==============================] - 0s 696us/step - loss: 0.0615 - acc: 0.9832 - val_loss: 0.2046 - val_acc: 0.9610\n",
      "Epoch 33/50\n",
      "422/422 [==============================] - 0s 697us/step - loss: 0.0596 - acc: 0.9836 - val_loss: 0.1847 - val_acc: 0.9682\n",
      "Epoch 34/50\n",
      "422/422 [==============================] - 0s 706us/step - loss: 0.0546 - acc: 0.9843 - val_loss: 0.1949 - val_acc: 0.9647\n",
      "Epoch 35/50\n",
      "422/422 [==============================] - 0s 702us/step - loss: 0.0542 - acc: 0.9846 - val_loss: 0.2016 - val_acc: 0.9660\n",
      "Epoch 36/50\n",
      "422/422 [==============================] - 0s 699us/step - loss: 0.0487 - acc: 0.9863 - val_loss: 0.1757 - val_acc: 0.9680\n",
      "Epoch 37/50\n",
      "422/422 [==============================] - 0s 700us/step - loss: 0.0479 - acc: 0.9866 - val_loss: 0.2045 - val_acc: 0.9673\n",
      "Epoch 38/50\n",
      "422/422 [==============================] - 0s 697us/step - loss: 0.0495 - acc: 0.9860 - val_loss: 0.2169 - val_acc: 0.9642\n",
      "Epoch 39/50\n",
      "422/422 [==============================] - 0s 697us/step - loss: 0.0514 - acc: 0.9862 - val_loss: 0.2270 - val_acc: 0.9640\n",
      "Epoch 40/50\n",
      "422/422 [==============================] - 0s 699us/step - loss: 0.0447 - acc: 0.9878 - val_loss: 0.2238 - val_acc: 0.9653\n",
      "Epoch 41/50\n",
      "422/422 [==============================] - 0s 705us/step - loss: 0.0496 - acc: 0.9861 - val_loss: 0.2231 - val_acc: 0.9652\n",
      "Epoch 42/50\n",
      "422/422 [==============================] - 0s 695us/step - loss: 0.0407 - acc: 0.9889 - val_loss: 0.1966 - val_acc: 0.9695\n",
      "Epoch 43/50\n",
      "422/422 [==============================] - 0s 698us/step - loss: 0.0422 - acc: 0.9885 - val_loss: 0.2171 - val_acc: 0.9682\n",
      "Epoch 44/50\n",
      "422/422 [==============================] - 0s 694us/step - loss: 0.0425 - acc: 0.9885 - val_loss: 0.2440 - val_acc: 0.9692\n",
      "Epoch 45/50\n",
      "422/422 [==============================] - 0s 671us/step - loss: 0.0424 - acc: 0.9882 - val_loss: 0.2276 - val_acc: 0.9678\n",
      "Epoch 46/50\n",
      "422/422 [==============================] - 0s 716us/step - loss: 0.0388 - acc: 0.9896 - val_loss: 0.2208 - val_acc: 0.9705\n",
      "Epoch 47/50\n",
      "422/422 [==============================] - 0s 694us/step - loss: 0.0362 - acc: 0.9899 - val_loss: 0.2143 - val_acc: 0.9697\n",
      "Epoch 48/50\n",
      "422/422 [==============================] - 0s 694us/step - loss: 0.0391 - acc: 0.9892 - val_loss: 0.2370 - val_acc: 0.9668\n",
      "Epoch 49/50\n",
      "422/422 [==============================] - 0s 693us/step - loss: 0.0372 - acc: 0.9896 - val_loss: 0.2309 - val_acc: 0.9662\n",
      "Epoch 50/50\n",
      "422/422 [==============================] - 0s 689us/step - loss: 0.0373 - acc: 0.9898 - val_loss: 0.2235 - val_acc: 0.9675\n"
     ]
    }
   ],
   "source": [
    "history = model.fit(\n",
    "    reshape_x_train,\n",
    "    y_train,\n",
    "    batch_size=128,\n",
    "    epochs=50,\n",
    "    validation_split=.1,\n",
    ")\n"
   ]
  },
  {
   "cell_type": "markdown",
   "id": "c8a279d0",
   "metadata": {},
   "source": [
    "### 정확도, 손실 시각화"
   ]
  },
  {
   "cell_type": "code",
   "execution_count": 13,
   "id": "e1301aca",
   "metadata": {},
   "outputs": [],
   "source": [
    "import matplotlib.pyplot as plt\n",
    "\n",
    "def show_graph(history_dict):\n",
    "    accuracy = history_dict['acc']\n",
    "    val_accuracy = history_dict['val_acc']\n",
    "    loss = history_dict['loss']\n",
    "    val_loss = history_dict['val_loss']\n",
    "\n",
    "    epochs = range(1, len(loss) + 1)\n",
    "    \n",
    "    plt.figure(figsize=(16, 1))\n",
    "    \n",
    "    plt.subplot(121)\n",
    "    plt.subplots_adjust(top=2)\n",
    "    plt.plot(epochs, accuracy, 'ro', label='Training accuracy')\n",
    "    plt.plot(epochs, val_accuracy, 'r', label='Validation accuracy')\n",
    "    plt.title('Trainging and validation accuracy and loss')\n",
    "    plt.xlabel('Epochs')\n",
    "    plt.ylabel('Accuracy and Loss')\n",
    "\n",
    "    plt.legend(loc='upper center', bbox_to_anchor=(0.5, -0.1),\n",
    "              fancybox=True, shadow=True, ncol=5)\n",
    "#     plt.legend(bbox_to_anchor=(1, -0.1))\n",
    "\n",
    "    plt.subplot(122)\n",
    "    plt.plot(epochs, loss, 'bo', label='Training loss')\n",
    "    plt.plot(epochs, val_loss, 'b', label='Validation loss')\n",
    "    plt.title('Training and validation loss')\n",
    "    plt.xlabel('Epochs')\n",
    "    plt.ylabel('Loss')\n",
    "    plt.legend(loc='upper center', bbox_to_anchor=(0.5, -0.1),\n",
    "          fancybox=True, shadow=True, ncol=5)\n",
    "#     plt.legend(bbox_to_anchor=(1, 0))\n",
    "\n",
    "    plt.show()"
   ]
  },
  {
   "cell_type": "code",
   "execution_count": 14,
   "id": "36a743cf",
   "metadata": {},
   "outputs": [
    {
     "data": {
      "image/png": "[encoded data removed]",
      "text/plain": [
       "<Figure size 1152x72 with 2 Axes>"
      ]
     },
     "metadata": {
      "needs_background": "light"
     },
     "output_type": "display_data"
    }
   ],
   "source": [
    "show_graph(history.history)"
   ]
  },
  {
   "cell_type": "markdown",
   "id": "544a6f50",
   "metadata": {},
   "source": [
    "첫번째 에폭의 결과가 너무 편차가 심하여 그래프를 알아보기 힘드니 10번째 에폭의 결과부터 그래프로 그려보도록 하겠습니다."
   ]
  },
  {
   "cell_type": "code",
   "execution_count": 15,
   "id": "dad72d92",
   "metadata": {},
   "outputs": [
    {
     "data": {
      "image/png": "[encoded data removed]",
      "text/plain": [
       "<Figure size 1152x72 with 2 Axes>"
      ]
     },
     "metadata": {
      "needs_background": "light"
     },
     "output_type": "display_data"
    }
   ],
   "source": [
    "m = map(lambda x: (x[0], x[1][10:]), history.history.items())\n",
    "not_noise_history = dict(list(m))\n",
    "show_graph(not_noise_history)"
   ]
  },
  {
   "cell_type": "markdown",
   "id": "5ac44844",
   "metadata": {},
   "source": [
    "대략 20 에폭부터 과대적합이 시작되는걸 확인할 수 있습니다."
   ]
  },
  {
   "cell_type": "code",
   "execution_count": 16,
   "id": "0f71a1dc",
   "metadata": {},
   "outputs": [
    {
     "name": "stdout",
     "output_type": "stream",
     "text": [
      "313/313 [==============================] - 0s 413us/step - loss: 0.2585 - acc: 0.9644\n"
     ]
    },
    {
     "data": {
      "text/plain": [
       "[0.25846216082572937, 0.9643999934196472]"
      ]
     },
     "execution_count": 16,
     "metadata": {},
     "output_type": "execute_result"
    }
   ],
   "source": [
    "model.evaluate(reshape_x_test, y_test)    # 정확도"
   ]
  },
  {
   "cell_type": "markdown",
   "id": "eb058fb7",
   "metadata": {},
   "source": [
    "# 모델 구성_CNN"
   ]
  },
  {
   "cell_type": "code",
   "execution_count": 17,
   "id": "1b35d992",
   "metadata": {},
   "outputs": [
    {
     "name": "stdout",
     "output_type": "stream",
     "text": [
      "Model: \"sequential_1\"\n",
      "_________________________________________________________________\n",
      " Layer (type)                Output Shape              Param #   \n",
      "=================================================================\n",
      " conv2d (Conv2D)             (None, 28, 28, 64)        320       \n",
      "                                                                 \n",
      " max_pooling2d (MaxPooling2D  (None, 14, 14, 64)       0         \n",
      " )                                                               \n",
      "                                                                 \n",
      " conv2d_1 (Conv2D)           (None, 14, 14, 128)       32896     \n",
      "                                                                 \n",
      " max_pooling2d_1 (MaxPooling  (None, 7, 7, 128)        0         \n",
      " 2D)                                                             \n",
      "                                                                 \n",
      " flatten_1 (Flatten)         (None, 6272)              0         \n",
      "                                                                 \n",
      " dense_3 (Dense)             (None, 10)                62730     \n",
      "                                                                 \n",
      "=================================================================\n",
      "Total params: 95,946\n",
      "Trainable params: 95,946\n",
      "Non-trainable params: 0\n",
      "_________________________________________________________________\n"
     ]
    }
   ],
   "source": [
    "# Kernel Initializer로는 유명한 Xavier Initializer를 사용\n",
    "model = Sequential()\n",
    "# model.add(layers.InputLayer())\n",
    "model.add(layers.Conv2D(\n",
    "    input_shape=(28, 28, 1),\n",
    "    filters=64, \n",
    "    kernel_size=(2, 2), \n",
    "    strides=(1, 1), \n",
    "    padding='same',\n",
    "    activation='relu',\n",
    "    kernel_initializer='glorot_normal',\n",
    "))\n",
    "model.add(layers.MaxPool2D())\n",
    "model.add(layers.Conv2D(\n",
    "    filters=128, \n",
    "    kernel_size=(2, 2), \n",
    "    strides=(1, 1), \n",
    "    padding='same',\n",
    "    activation='relu',\n",
    "    kernel_initializer='glorot_normal'\n",
    "))\n",
    "model.add(layers.MaxPool2D())\n",
    "model.add(layers.Flatten())\n",
    "model.add(layers.Dense(10, activation='softmax'))\n",
    "\n",
    "model.summary()"
   ]
  },
  {
   "cell_type": "markdown",
   "id": "e03e52fb",
   "metadata": {},
   "source": [
    "### 모델 컴파일"
   ]
  },
  {
   "cell_type": "code",
   "execution_count": 18,
   "id": "06a58f7a",
   "metadata": {},
   "outputs": [],
   "source": [
    "# 레이블 데이터를 원-핫 인코딩을 진행하지 않았기 때문에 Loss 펑션에 sparse_categorical_crossentropy를 지정\n",
    "model.compile(\n",
    "    optimizer='adam',\n",
    "    loss='sparse_categorical_crossentropy',\n",
    "    metrics=['acc']\n",
    ")"
   ]
  },
  {
   "cell_type": "markdown",
   "id": "2d2b74d0",
   "metadata": {},
   "source": [
    "### 모델 학습"
   ]
  },
  {
   "cell_type": "code",
   "execution_count": 19,
   "id": "0ef9b8fa",
   "metadata": {
    "scrolled": true
   },
   "outputs": [
    {
     "name": "stdout",
     "output_type": "stream",
     "text": [
      "Epoch 1/20\n",
      "422/422 [==============================] - 17s 39ms/step - loss: 0.6000 - acc: 0.9250 - val_loss: 0.0740 - val_acc: 0.9783\n",
      "Epoch 2/20\n",
      "422/422 [==============================] - 16s 39ms/step - loss: 0.0713 - acc: 0.9785 - val_loss: 0.0580 - val_acc: 0.9830\n",
      "Epoch 3/20\n",
      "422/422 [==============================] - 17s 41ms/step - loss: 0.0490 - acc: 0.9850 - val_loss: 0.0613 - val_acc: 0.9845\n",
      "Epoch 4/20\n",
      "422/422 [==============================] - 17s 39ms/step - loss: 0.0377 - acc: 0.9879 - val_loss: 0.0550 - val_acc: 0.9875\n",
      "Epoch 5/20\n",
      "422/422 [==============================] - 16s 39ms/step - loss: 0.0311 - acc: 0.9899 - val_loss: 0.0744 - val_acc: 0.9817\n",
      "Epoch 6/20\n",
      "422/422 [==============================] - 17s 39ms/step - loss: 0.0297 - acc: 0.9899 - val_loss: 0.0668 - val_acc: 0.9853\n",
      "Epoch 7/20\n",
      "422/422 [==============================] - 16s 39ms/step - loss: 0.0253 - acc: 0.9916 - val_loss: 0.0877 - val_acc: 0.9830\n",
      "Epoch 8/20\n",
      "422/422 [==============================] - 16s 39ms/step - loss: 0.0235 - acc: 0.9922 - val_loss: 0.0632 - val_acc: 0.9888\n",
      "Epoch 9/20\n",
      "422/422 [==============================] - 16s 39ms/step - loss: 0.0241 - acc: 0.9924 - val_loss: 0.0713 - val_acc: 0.9875\n",
      "Epoch 10/20\n",
      "422/422 [==============================] - 16s 38ms/step - loss: 0.0193 - acc: 0.9934 - val_loss: 0.0715 - val_acc: 0.9882\n",
      "Epoch 11/20\n",
      "422/422 [==============================] - 16s 38ms/step - loss: 0.0178 - acc: 0.9945 - val_loss: 0.0990 - val_acc: 0.9833\n",
      "Epoch 12/20\n",
      "422/422 [==============================] - 16s 38ms/step - loss: 0.0218 - acc: 0.9929 - val_loss: 0.0926 - val_acc: 0.9857\n",
      "Epoch 13/20\n",
      "422/422 [==============================] - 16s 39ms/step - loss: 0.0166 - acc: 0.9946 - val_loss: 0.0829 - val_acc: 0.9870\n",
      "Epoch 14/20\n",
      "422/422 [==============================] - 16s 39ms/step - loss: 0.0165 - acc: 0.9949 - val_loss: 0.1125 - val_acc: 0.9813\n",
      "Epoch 15/20\n",
      "422/422 [==============================] - 16s 38ms/step - loss: 0.0157 - acc: 0.9950 - val_loss: 0.0994 - val_acc: 0.9870\n",
      "Epoch 16/20\n",
      "422/422 [==============================] - 16s 39ms/step - loss: 0.0160 - acc: 0.9950 - val_loss: 0.1015 - val_acc: 0.9868\n",
      "Epoch 17/20\n",
      "422/422 [==============================] - 16s 39ms/step - loss: 0.0138 - acc: 0.9955 - val_loss: 0.1082 - val_acc: 0.9850\n",
      "Epoch 18/20\n",
      "422/422 [==============================] - 16s 39ms/step - loss: 0.0155 - acc: 0.9955 - val_loss: 0.1075 - val_acc: 0.9855\n",
      "Epoch 19/20\n",
      "422/422 [==============================] - 16s 39ms/step - loss: 0.0180 - acc: 0.9947 - val_loss: 0.0963 - val_acc: 0.9862\n",
      "Epoch 20/20\n",
      "422/422 [==============================] - 16s 39ms/step - loss: 0.0089 - acc: 0.9970 - val_loss: 0.1002 - val_acc: 0.9878\n"
     ]
    }
   ],
   "source": [
    "history = model.fit(\n",
    "    reshape_x_train,\n",
    "    y_train,\n",
    "    batch_size=128,\n",
    "    epochs=20,\n",
    "    validation_split=.1,\n",
    ")"
   ]
  },
  {
   "cell_type": "markdown",
   "id": "b420dafa",
   "metadata": {},
   "source": [
    "### 정확도 및 손실 시각화"
   ]
  },
  {
   "cell_type": "code",
   "execution_count": 20,
   "id": "e4ff4128",
   "metadata": {},
   "outputs": [
    {
     "data": {
      "image/png": "[encoded data removed]",
      "text/plain": [
       "<Figure size 1152x72 with 2 Axes>"
      ]
     },
     "metadata": {
      "needs_background": "light"
     },
     "output_type": "display_data"
    }
   ],
   "source": [
    "show_graph(history.history)"
   ]
  },
  {
   "cell_type": "markdown",
   "id": "1e69938d",
   "metadata": {},
   "source": [
    "첫 에폭의 결과 때문에 편차가 심하여 첫 에폭을 제외하고 보도록 하겠습니다."
   ]
  },
  {
   "cell_type": "code",
   "execution_count": 21,
   "id": "9bfaa7f0",
   "metadata": {},
   "outputs": [
    {
     "data": {
      "image/png": "[encoded data removed]",
      "text/plain": [
       "<Figure size 1152x72 with 2 Axes>"
      ]
     },
     "metadata": {
      "needs_background": "light"
     },
     "output_type": "display_data"
    }
   ],
   "source": [
    "m = map(lambda x: (x[0], x[1][1:]), history.history.items())\n",
    "not_noise_history = dict(list(m))\n",
    "show_graph(not_noise_history)"
   ]
  },
  {
   "cell_type": "markdown",
   "id": "c2e975b9",
   "metadata": {},
   "source": [
    "## 과대적합 해결"
   ]
  },
  {
   "cell_type": "markdown",
   "id": "4ba84eb4",
   "metadata": {},
   "source": [
    "### 모델의 재구성"
   ]
  },
  {
   "cell_type": "code",
   "execution_count": 22,
   "id": "9aba7707",
   "metadata": {},
   "outputs": [
    {
     "name": "stdout",
     "output_type": "stream",
     "text": [
      "Model: \"sequential_2\"\n",
      "_________________________________________________________________\n",
      " Layer (type)                Output Shape              Param #   \n",
      "=================================================================\n",
      " conv2d_2 (Conv2D)           (None, 28, 28, 32)        160       \n",
      "                                                                 \n",
      " max_pooling2d_2 (MaxPooling  (None, 14, 14, 32)       0         \n",
      " 2D)                                                             \n",
      "                                                                 \n",
      " dropout (Dropout)           (None, 14, 14, 32)        0         \n",
      "                                                                 \n",
      " conv2d_3 (Conv2D)           (None, 14, 14, 64)        8256      \n",
      "                                                                 \n",
      " max_pooling2d_3 (MaxPooling  (None, 7, 7, 64)         0         \n",
      " 2D)                                                             \n",
      "                                                                 \n",
      " dropout_1 (Dropout)         (None, 7, 7, 64)          0         \n",
      "                                                                 \n",
      " conv2d_4 (Conv2D)           (None, 7, 7, 128)         32896     \n",
      "                                                                 \n",
      " max_pooling2d_4 (MaxPooling  (None, 3, 3, 128)        0         \n",
      " 2D)                                                             \n",
      "                                                                 \n",
      " dropout_2 (Dropout)         (None, 3, 3, 128)         0         \n",
      "                                                                 \n",
      " conv2d_5 (Conv2D)           (None, 3, 3, 256)         131328    \n",
      "                                                                 \n",
      " max_pooling2d_5 (MaxPooling  (None, 1, 1, 256)        0         \n",
      " 2D)                                                             \n",
      "                                                                 \n",
      " dropout_3 (Dropout)         (None, 1, 1, 256)         0         \n",
      "                                                                 \n",
      " flatten_2 (Flatten)         (None, 256)               0         \n",
      "                                                                 \n",
      " dense_4 (Dense)             (None, 10)                2570      \n",
      "                                                                 \n",
      "=================================================================\n",
      "Total params: 175,210\n",
      "Trainable params: 175,210\n",
      "Non-trainable params: 0\n",
      "_________________________________________________________________\n"
     ]
    }
   ],
   "source": [
    "from tensorflow.keras.models import Sequential\n",
    "from tensorflow.keras import layers\n",
    "from tensorflow.keras import regularizers\n",
    "\n",
    "model = Sequential()\n",
    "model.add(layers.Conv2D(\n",
    "    input_shape=(28, 28, 1),\n",
    "    filters=32, \n",
    "    kernel_size=(2, 2), \n",
    "    strides=(1, 1), \n",
    "    padding='same',\n",
    "    activation='relu',\n",
    "    kernel_initializer='glorot_normal',\n",
    "    kernel_regularizer=regularizers.l2(0.01),\n",
    "))\n",
    "model.add(layers.MaxPool2D())\n",
    "model.add(layers.Dropout(.5))\n",
    "\n",
    "model.add(layers.Conv2D(\n",
    "    filters=64, \n",
    "    kernel_size=(2, 2), \n",
    "    strides=(1, 1), \n",
    "    padding='same',\n",
    "    activation='relu',\n",
    "    kernel_initializer='glorot_normal',\n",
    "    kernel_regularizer=regularizers.l2(0.01),\n",
    "))\n",
    "model.add(layers.MaxPool2D())\n",
    "model.add(layers.Dropout(.5))\n",
    "\n",
    "model.add(layers.Conv2D(\n",
    "    filters=128, \n",
    "    kernel_size=(2, 2), \n",
    "    strides=(1, 1), \n",
    "    padding='same',\n",
    "    activation='relu',\n",
    "    kernel_initializer='glorot_normal',\n",
    "    kernel_regularizer=regularizers.l2(0.01),\n",
    "))\n",
    "model.add(layers.MaxPool2D())\n",
    "model.add(layers.Dropout(.5))\n",
    "\n",
    "model.add(layers.Conv2D(\n",
    "    filters=256, \n",
    "    kernel_size=(2, 2), \n",
    "    strides=(1, 1), \n",
    "    padding='same',\n",
    "    activation='relu',\n",
    "    kernel_initializer='glorot_normal',\n",
    "    kernel_regularizer=regularizers.l2(0.01),\n",
    "))\n",
    "model.add(layers.MaxPool2D())\n",
    "model.add(layers.Dropout(.5))\n",
    "\n",
    "model.add(layers.Flatten())\n",
    "model.add(layers.Dense(10, activation='softmax', kernel_regularizer=regularizers.l2(0.01),))\n",
    "\n",
    "model.summary()"
   ]
  },
  {
   "cell_type": "markdown",
   "id": "fa47711f",
   "metadata": {},
   "source": [
    "### 모델 컴파일"
   ]
  },
  {
   "cell_type": "code",
   "execution_count": 23,
   "id": "9e5b226f",
   "metadata": {},
   "outputs": [],
   "source": [
    "model.compile(\n",
    "    optimizer='adam',\n",
    "    loss='sparse_categorical_crossentropy',\n",
    "    metrics=['acc']\n",
    ")"
   ]
  },
  {
   "cell_type": "markdown",
   "id": "aee66043",
   "metadata": {},
   "source": [
    "### 학습 시작"
   ]
  },
  {
   "cell_type": "code",
   "execution_count": 24,
   "id": "a24e45b6",
   "metadata": {
    "scrolled": true
   },
   "outputs": [
    {
     "name": "stdout",
     "output_type": "stream",
     "text": [
      "Epoch 1/30\n",
      "422/422 [==============================] - 14s 33ms/step - loss: 8.6517 - acc: 0.1627 - val_loss: 4.9860 - val_acc: 0.1357\n",
      "Epoch 2/30\n",
      "422/422 [==============================] - 14s 33ms/step - loss: 4.5386 - acc: 0.2066 - val_loss: 4.2673 - val_acc: 0.1927\n",
      "Epoch 3/30\n",
      "422/422 [==============================] - 14s 33ms/step - loss: 3.8345 - acc: 0.2470 - val_loss: 3.4346 - val_acc: 0.3705\n",
      "Epoch 4/30\n",
      "422/422 [==============================] - 14s 33ms/step - loss: 3.0856 - acc: 0.3495 - val_loss: 2.3017 - val_acc: 0.7842\n",
      "Epoch 5/30\n",
      "422/422 [==============================] - 14s 33ms/step - loss: 1.9906 - acc: 0.6617 - val_loss: 1.1334 - val_acc: 0.9417\n",
      "Epoch 6/30\n",
      "422/422 [==============================] - 14s 33ms/step - loss: 1.3228 - acc: 0.8190 - val_loss: 0.8122 - val_acc: 0.9618\n",
      "Epoch 7/30\n",
      "422/422 [==============================] - 14s 32ms/step - loss: 0.9940 - acc: 0.8694 - val_loss: 0.6219 - val_acc: 0.9690\n",
      "Epoch 8/30\n",
      "422/422 [==============================] - 14s 32ms/step - loss: 0.7967 - acc: 0.8929 - val_loss: 0.5347 - val_acc: 0.9640\n",
      "Epoch 9/30\n",
      "422/422 [==============================] - 14s 32ms/step - loss: 0.6775 - acc: 0.9066 - val_loss: 0.4321 - val_acc: 0.9782\n",
      "Epoch 10/30\n",
      "422/422 [==============================] - 14s 32ms/step - loss: 0.6109 - acc: 0.9146 - val_loss: 0.3901 - val_acc: 0.9808\n",
      "Epoch 11/30\n",
      "422/422 [==============================] - 14s 32ms/step - loss: 0.5746 - acc: 0.9181 - val_loss: 0.3700 - val_acc: 0.9833\n",
      "Epoch 12/30\n",
      "422/422 [==============================] - 14s 33ms/step - loss: 0.5548 - acc: 0.9234 - val_loss: 0.3710 - val_acc: 0.9807\n",
      "Epoch 13/30\n",
      "422/422 [==============================] - 14s 32ms/step - loss: 0.5545 - acc: 0.9236 - val_loss: 0.3800 - val_acc: 0.9805\n",
      "Epoch 14/30\n",
      "422/422 [==============================] - 14s 32ms/step - loss: 0.5554 - acc: 0.9232 - val_loss: 0.3717 - val_acc: 0.9835\n",
      "Epoch 15/30\n",
      "422/422 [==============================] - 14s 32ms/step - loss: 0.5508 - acc: 0.9254 - val_loss: 0.3805 - val_acc: 0.9807\n",
      "Epoch 16/30\n",
      "422/422 [==============================] - 14s 32ms/step - loss: 0.5580 - acc: 0.9254 - val_loss: 0.3877 - val_acc: 0.9780\n",
      "Epoch 17/30\n",
      "422/422 [==============================] - 14s 32ms/step - loss: 0.5586 - acc: 0.9264 - val_loss: 0.3772 - val_acc: 0.9830\n",
      "Epoch 18/30\n",
      "422/422 [==============================] - 14s 32ms/step - loss: 0.5592 - acc: 0.9272 - val_loss: 0.4007 - val_acc: 0.9767\n",
      "Epoch 19/30\n",
      "422/422 [==============================] - 14s 32ms/step - loss: 0.5677 - acc: 0.9256 - val_loss: 0.3922 - val_acc: 0.9802\n",
      "Epoch 20/30\n",
      "422/422 [==============================] - 14s 33ms/step - loss: 0.5707 - acc: 0.9247 - val_loss: 0.3864 - val_acc: 0.9845\n",
      "Epoch 21/30\n",
      "422/422 [==============================] - 14s 32ms/step - loss: 0.5708 - acc: 0.9257 - val_loss: 0.3955 - val_acc: 0.9827\n",
      "Epoch 22/30\n",
      "422/422 [==============================] - 14s 32ms/step - loss: 0.5707 - acc: 0.9260 - val_loss: 0.3921 - val_acc: 0.9812\n",
      "Epoch 23/30\n",
      "422/422 [==============================] - 14s 32ms/step - loss: 0.5720 - acc: 0.9259 - val_loss: 0.3962 - val_acc: 0.9823\n",
      "Epoch 24/30\n",
      "422/422 [==============================] - 14s 32ms/step - loss: 0.5747 - acc: 0.9248 - val_loss: 0.3980 - val_acc: 0.9802\n",
      "Epoch 25/30\n",
      "422/422 [==============================] - 14s 32ms/step - loss: 0.5682 - acc: 0.9261 - val_loss: 0.3943 - val_acc: 0.9803\n",
      "Epoch 26/30\n",
      "422/422 [==============================] - 14s 32ms/step - loss: 0.5691 - acc: 0.9263 - val_loss: 0.3914 - val_acc: 0.9825\n",
      "Epoch 27/30\n",
      "422/422 [==============================] - 14s 33ms/step - loss: 0.5733 - acc: 0.9261 - val_loss: 0.4050 - val_acc: 0.9800\n",
      "Epoch 28/30\n",
      "422/422 [==============================] - 14s 33ms/step - loss: 0.5695 - acc: 0.9266 - val_loss: 0.3923 - val_acc: 0.9818\n",
      "Epoch 29/30\n",
      "422/422 [==============================] - 14s 33ms/step - loss: 0.5721 - acc: 0.9263 - val_loss: 0.3908 - val_acc: 0.9845\n",
      "Epoch 30/30\n",
      "422/422 [==============================] - 14s 32ms/step - loss: 0.5725 - acc: 0.9259 - val_loss: 0.4051 - val_acc: 0.9822\n"
     ]
    }
   ],
   "source": [
    "history = model.fit(\n",
    "    reshape_x_train,\n",
    "    y_train,\n",
    "    batch_size=128,\n",
    "    epochs=30,\n",
    "    validation_split=.1,\n",
    ")"
   ]
  },
  {
   "cell_type": "markdown",
   "id": "2cc3a4b7",
   "metadata": {},
   "source": [
    "### 모델 평가"
   ]
  },
  {
   "cell_type": "code",
   "execution_count": 25,
   "id": "66d5c1e7",
   "metadata": {},
   "outputs": [
    {
     "data": {
      "image/png": "[encoded data removed]",
      "text/plain": [
       "<Figure size 1152x72 with 2 Axes>"
      ]
     },
     "metadata": {
      "needs_background": "light"
     },
     "output_type": "display_data"
    }
   ],
   "source": [
    "show_graph(history.history)"
   ]
  },
  {
   "cell_type": "markdown",
   "id": "771ce002",
   "metadata": {},
   "source": [
    "가중치의 급격환 변화를 L2 규제를 통해 막아두어 처음 2에폭까지는 큰 변화가 없다가 \n",
    "3~5 에폭이 지나서 모델이 높은 성능에 근접해지는걸 확인할 수 있습니다. \n",
    "그럼 조금 더 자세하게 볼 수 있도록 첫 5에폭까지의 데이터는 제외하고 이후의 데이터를 그래프로 확인해보겠습니다."
   ]
  },
  {
   "cell_type": "code",
   "execution_count": 26,
   "id": "659d2dc2",
   "metadata": {},
   "outputs": [
    {
     "data": {
      "image/png": "[encoded data removed]",
      "text/plain": [
       "<Figure size 1152x72 with 2 Axes>"
      ]
     },
     "metadata": {
      "needs_background": "light"
     },
     "output_type": "display_data"
    }
   ],
   "source": [
    "m = map(lambda x: (x[0], x[1][5:]), history.history.items())\n",
    "not_noise_history = dict(list(m))\n",
    "show_graph(not_noise_history)"
   ]
  },
  {
   "cell_type": "markdown",
   "id": "8e36e391",
   "metadata": {},
   "source": [
    "트레이닝 세트의 정확도가 낮게 측정되는건 드랍아웃 때문\n",
    "학습마다 몇몇의 특정 뉴런을 비활성화 시키기 때문에 정확도가 낮아지게 된다.\n",
    "훈련을 마친 이후 예측시에는 드랍아웃 시키는 뉴런의 수를 0%로 맞추고 사용"
   ]
  },
  {
   "cell_type": "code",
   "execution_count": 27,
   "id": "487344bc",
   "metadata": {},
   "outputs": [
    {
     "name": "stdout",
     "output_type": "stream",
     "text": [
      "1875/1875 [==============================] - 5s 3ms/step - loss: 0.4208 - acc: 0.9780\n"
     ]
    },
    {
     "data": {
      "text/plain": [
       "[0.4207896590232849, 0.9779833555221558]"
      ]
     },
     "execution_count": 27,
     "metadata": {},
     "output_type": "execute_result"
    }
   ],
   "source": [
    "model.evaluate(\n",
    "    reshape_x_train,\n",
    "    y_train\n",
    ")"
   ]
  },
  {
   "cell_type": "code",
   "execution_count": 28,
   "id": "c99addbe",
   "metadata": {},
   "outputs": [
    {
     "name": "stdout",
     "output_type": "stream",
     "text": [
      "313/313 [==============================] - 1s 2ms/step - loss: 0.4136 - acc: 0.9798\n"
     ]
    },
    {
     "data": {
      "text/plain": [
       "[0.41363999247550964, 0.9797999858856201]"
      ]
     },
     "execution_count": 28,
     "metadata": {},
     "output_type": "execute_result"
    }
   ],
   "source": [
    "model.evaluate(\n",
    "    reshape_x_test,\n",
    "    y_test\n",
    ")"
   ]
  },
  {
   "cell_type": "markdown",
   "id": "8cf057a5",
   "metadata": {},
   "source": [
    "정확도 = 0.97979"
   ]
  },
  {
   "cell_type": "code",
   "execution_count": null,
   "id": "b8f476df",
   "metadata": {},
   "outputs": [],
   "source": []
  }
 ],
 "metadata": {
  "kernelspec": {
   "display_name": "Python 3 (ipykernel)",
   "language": "python",
   "name": "python3"
  },
  "language_info": {
   "codemirror_mode": {
    "name": "ipython",
    "version": 3
   },
   "file_extension": ".py",
   "mimetype": "text/x-python",
   "name": "python",
   "nbconvert_exporter": "python",
   "pygments_lexer": "ipython3",
   "version": "3.9.7"
  }
 },
 "nbformat": 4,
 "nbformat_minor": 5
}
