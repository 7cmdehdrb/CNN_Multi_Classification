{
 "cells": [
  {
   "cell_type": "code",
   "execution_count": null,
   "id": "852a975e",
   "metadata": {},
   "outputs": [
    {
     "ename": "",
     "evalue": "",
     "output_type": "error",
     "traceback": [
      "\u001b[1;31mRunning cells with 'Python 3.9.11 64-bit' requires ipykernel package.\n",
      "Run the following command to install 'ipykernel' into the Python environment. \n",
      "Command: 'c:/Users/3cmde/AppData/Local/Programs/Python/Python39/python.exe -m pip install ipykernel -U --user --force-reinstall'"
     ]
    }
   ],
   "source": [
    "import numpy as np\n",
    "from tensorflow import keras\n",
    "from tensorflow.keras import layers\n",
    "\n",
    "num_classes = 10\n",
    "input_shape = (28, 28, 1)\n",
    "\n",
    "(x_train, y_train), (x_test, y_test) = keras.datasets.mnist.load_data()\n",
    "\n",
    "\n",
    "x_train = x_train.astype(\"float32\")/255\n",
    "x_test = x_test.astype(\"float32\")/255\n",
    "\n",
    "x_train = np.expand_dims(x_train, -1)\n",
    "x_test = np.expand_dims(x_test, -1)\n",
    "\n",
    "y_train = keras.utils.to_categorical(y_train, num_classes)\n",
    "y_test = keras.utils.to_categorical(y_test, num_classes)"
   ]
  },
  {
   "cell_type": "code",
   "execution_count": null,
   "id": "c97be23e",
   "metadata": {},
   "outputs": [
    {
     "ename": "",
     "evalue": "",
     "output_type": "error",
     "traceback": [
      "\u001b[1;31mRunning cells with 'Python 3.9.11 64-bit' requires ipykernel package.\n",
      "Run the following command to install 'ipykernel' into the Python environment. \n",
      "Command: 'c:/Users/3cmde/AppData/Local/Programs/Python/Python39/python.exe -m pip install ipykernel -U --user --force-reinstall'"
     ]
    }
   ],
   "source": [
    "model = keras.Sequential(\n",
    "[\n",
    "    keras.Input(shape = input_shape),\n",
    "    layers.Conv2D(32, kernel_size = (3,3), activation = 'relu', strides=(1,1), padding = 'same'),\n",
    "    layers.MaxPool2D(pool_size = (2,2), strides = (2,2)),\n",
    "    layers.Conv2D(32, kernel_size = (3,3), activation = 'relu', strides=(1,1), padding = 'same'),\n",
    "    layers.MaxPool2D(pool_size = (2,2), strides = (2,2)),\n",
    "    layers.Conv2D(32, kernel_size = (3,3), activation = 'relu', strides=(1,1), padding = 'same'),\n",
    "    layers.MaxPool2D(pool_size = (2,2), strides = (2,2)),\n",
    "    layers.Flatten(),\n",
    "    layers.Dense(625, activation= 'relu'),\n",
    "    layers.Dense(num_classes, activation = 'softmax'),\n",
    "])"
   ]
  },
  {
   "cell_type": "code",
   "execution_count": null,
   "id": "65fdad5b",
   "metadata": {},
   "outputs": [
    {
     "name": "stdout",
     "output_type": "stream",
     "text": [
      "Epoch 1/15\n",
      "540/540 [==============================] - 15s 27ms/step - loss: 0.2385 - accuracy: 0.9251 - val_loss: 0.0534 - val_accuracy: 0.9845\n",
      "Epoch 2/15\n",
      "540/540 [==============================] - 15s 27ms/step - loss: 0.0602 - accuracy: 0.9812 - val_loss: 0.0451 - val_accuracy: 0.9868\n",
      "Epoch 3/15\n",
      "540/540 [==============================] - 15s 27ms/step - loss: 0.0425 - accuracy: 0.9867 - val_loss: 0.0311 - val_accuracy: 0.9898\n",
      "Epoch 4/15\n",
      "540/540 [==============================] - 15s 27ms/step - loss: 0.0325 - accuracy: 0.9897 - val_loss: 0.0356 - val_accuracy: 0.9902\n",
      "Epoch 5/15\n",
      "540/540 [==============================] - 15s 27ms/step - loss: 0.0262 - accuracy: 0.9913 - val_loss: 0.0324 - val_accuracy: 0.9920\n",
      "Epoch 6/15\n",
      "540/540 [==============================] - 15s 28ms/step - loss: 0.0215 - accuracy: 0.9931 - val_loss: 0.0332 - val_accuracy: 0.9902\n",
      "Epoch 7/15\n",
      "540/540 [==============================] - 15s 27ms/step - loss: 0.0198 - accuracy: 0.9935 - val_loss: 0.0310 - val_accuracy: 0.9915\n",
      "Epoch 8/15\n",
      "540/540 [==============================] - 15s 27ms/step - loss: 0.0158 - accuracy: 0.9947 - val_loss: 0.0289 - val_accuracy: 0.9915\n",
      "Epoch 9/15\n",
      "540/540 [==============================] - 14s 27ms/step - loss: 0.0131 - accuracy: 0.9956 - val_loss: 0.0251 - val_accuracy: 0.9937\n",
      "Epoch 10/15\n",
      "540/540 [==============================] - 15s 27ms/step - loss: 0.0132 - accuracy: 0.9955 - val_loss: 0.0438 - val_accuracy: 0.9892\n",
      "Epoch 11/15\n",
      "540/540 [==============================] - 15s 27ms/step - loss: 0.0110 - accuracy: 0.9962 - val_loss: 0.0318 - val_accuracy: 0.9917\n",
      "Epoch 12/15\n",
      "540/540 [==============================] - 15s 27ms/step - loss: 0.0104 - accuracy: 0.9964 - val_loss: 0.0442 - val_accuracy: 0.9902\n",
      "Epoch 13/15\n",
      "540/540 [==============================] - 15s 27ms/step - loss: 0.0099 - accuracy: 0.9968 - val_loss: 0.0361 - val_accuracy: 0.9917\n",
      "Epoch 14/15\n",
      "540/540 [==============================] - 15s 27ms/step - loss: 0.0071 - accuracy: 0.9976 - val_loss: 0.0343 - val_accuracy: 0.9925\n",
      "Epoch 15/15\n",
      "540/540 [==============================] - 15s 27ms/step - loss: 0.0086 - accuracy: 0.9969 - val_loss: 0.0355 - val_accuracy: 0.9920\n"
     ]
    },
    {
     "data": {
      "text/plain": [
       "<keras.callbacks.History at 0x1d7649217c8>"
      ]
     },
     "execution_count": 3,
     "metadata": {},
     "output_type": "execute_result"
    },
    {
     "ename": "",
     "evalue": "",
     "output_type": "error",
     "traceback": [
      "\u001b[1;31mRunning cells with 'Python 3.9.11 64-bit' requires ipykernel package.\n",
      "Run the following command to install 'ipykernel' into the Python environment. \n",
      "Command: 'c:/Users/3cmde/AppData/Local/Programs/Python/Python39/python.exe -m pip install ipykernel -U --user --force-reinstall'"
     ]
    }
   ],
   "source": [
    "batch_size = 100\n",
    "epochs = 15\n",
    "model.compile(loss=\"categorical_crossentropy\", optimizer = \"adam\", metrics = [\"accuracy\"])\n",
    "model.fit(x_train, y_train, batch_size = 100, epochs = 15, validation_split = 0.1)"
   ]
  },
  {
   "cell_type": "code",
   "execution_count": null,
   "id": "d039f219",
   "metadata": {},
   "outputs": [
    {
     "name": "stdout",
     "output_type": "stream",
     "text": [
      "test loss 0.03658424690365791\n",
      "test accuracy 0.991100013256073\n"
     ]
    },
    {
     "data": {
      "text/plain": [
       "[0.03658424690365791, 0.991100013256073]"
      ]
     },
     "execution_count": 4,
     "metadata": {},
     "output_type": "execute_result"
    },
    {
     "ename": "",
     "evalue": "",
     "output_type": "error",
     "traceback": [
      "\u001b[1;31mRunning cells with 'Python 3.9.11 64-bit' requires ipykernel package.\n",
      "Run the following command to install 'ipykernel' into the Python environment. \n",
      "Command: 'c:/Users/3cmde/AppData/Local/Programs/Python/Python39/python.exe -m pip install ipykernel -U --user --force-reinstall'"
     ]
    }
   ],
   "source": [
    "score = model.evaluate(x_test, y_test, verbose = 0)\n",
    "print(\"test loss\", score[0])\n",
    "print(\"test accuracy\", score[1])\n",
    "score"
   ]
  },
  {
   "cell_type": "code",
   "execution_count": null,
   "id": "2a35b97f",
   "metadata": {},
   "outputs": [
    {
     "ename": "",
     "evalue": "",
     "output_type": "error",
     "traceback": [
      "\u001b[1;31mRunning cells with 'Python 3.9.11 64-bit' requires ipykernel package.\n",
      "Run the following command to install 'ipykernel' into the Python environment. \n",
      "Command: 'c:/Users/3cmde/AppData/Local/Programs/Python/Python39/python.exe -m pip install ipykernel -U --user --force-reinstall'"
     ]
    }
   ],
   "source": []
  }
 ],
 "metadata": {
  "kernelspec": {
   "display_name": "Python 3.9.11 ('CNN_Multi_Classification-hCC8vM7R')",
   "language": "python",
   "name": "python3"
  },
  "language_info": {
   "codemirror_mode": {
    "name": "ipython",
    "version": 3
   },
   "file_extension": ".py",
   "mimetype": "text/x-python",
   "name": "python",
   "nbconvert_exporter": "python",
   "pygments_lexer": "ipython3",
   "version": "3.9.11"
  },
  "vscode": {
   "interpreter": {
    "hash": "41a141ecd022c12aacf0ba9aae2729f93105d5f60260756b23929c6062872b36"
   }
  }
 },
 "nbformat": 4,
 "nbformat_minor": 5
}
